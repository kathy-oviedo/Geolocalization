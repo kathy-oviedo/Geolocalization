{
 "cells": [
  {
   "cell_type": "markdown",
   "id": "1f80ac65",
   "metadata": {},
   "source": [
    "# Agrupación de Direcciones por Cercanía usando Clustering Jerárquico\n",
    "\n",
    "Este notebook realiza una agrupación de direcciones a partir de sus coordenadas geográficas (Latitud, Longitud) utilizando el algoritmo de **Agglomerative Clustering**. El objetivo es distribuir las direcciones en grupos de proximidad, con un **máximo de 15 direcciones por grupo**, manteniendo la coherencia espacial."
   ]
  },
  {
   "cell_type": "markdown",
   "id": "34b50d81",
   "metadata": {},
   "source": [
    "## Paso 1: Cargar los datos de direcciones con coordenadas"
   ]
  },
  {
   "cell_type": "code",
   "execution_count": null,
   "id": "b0e7b590",
   "metadata": {},
   "outputs": [],
   "source": [
    "import pandas as pd\n",
    "\n",
    "# Cargar archivo con coordenadas previamente obtenidas\n",
    "data = pd.read_excel('output_file_with_coordinates.xlsx')"
   ]
  },
  {
   "cell_type": "markdown",
   "id": "f5d4ae8b",
   "metadata": {},
   "source": [
    "## Paso 2: Escalado de coordenadas geográficas"
   ]
  },
  {
   "cell_type": "code",
   "execution_count": null,
   "id": "6c20864a",
   "metadata": {},
   "outputs": [],
   "source": [
    "from sklearn.preprocessing import StandardScaler\n",
    "\n",
    "# Escalar coordenadas para mejorar el agrupamiento\n",
    "scaler = StandardScaler()\n",
    "coords_scaled = scaler.fit_transform(data[['Latitud', 'Longitud']])"
   ]
  },
  {
   "cell_type": "markdown",
   "id": "fe70e99f",
   "metadata": {},
   "source": [
    "## Paso 3: Agrupamiento inicial con Agglomerative Clustering"
   ]
  },
  {
   "cell_type": "code",
   "execution_count": null,
   "id": "dbad2bb3",
   "metadata": {},
   "outputs": [],
   "source": [
    "from sklearn.cluster import AgglomerativeClustering\n",
    "\n",
    "max_grupos = 60\n",
    "clustering = AgglomerativeClustering(n_clusters=max_grupos, linkage='ward')\n",
    "data['Grupo_Temporal'] = clustering.fit_predict(coords_scaled)"
   ]
  },
  {
   "cell_type": "markdown",
   "id": "15727145",
   "metadata": {},
   "source": [
    "## Paso 4: División de grupos con más de 15 direcciones por distancia al centro"
   ]
  },
  {
   "cell_type": "code",
   "execution_count": null,
   "id": "1c2ca183",
   "metadata": {},
   "outputs": [],
   "source": [
    "import numpy as np\n",
    "\n",
    "centro_valledupar = [10.4631, -73.2532]\n",
    "max_direcciones_por_grupo = 15\n",
    "grupo_id = 0\n",
    "final_grupos = []\n",
    "\n",
    "for grupo in data['Grupo_Temporal'].unique():\n",
    "    subgrupo = data[data['Grupo_Temporal'] == grupo].copy()\n",
    "    subgrupo['DistanciaCentro'] = np.sqrt(\n",
    "        (subgrupo['Latitud'] - centro_valledupar[0])**2 +\n",
    "        (subgrupo['Longitud'] - centro_valledupar[1])**2\n",
    "    )\n",
    "    subgrupo = subgrupo.sort_values('DistanciaCentro')\n",
    "    for i in range(0, len(subgrupo), max_direcciones_por_grupo):\n",
    "        bloque = subgrupo.iloc[i:i + max_direcciones_por_grupo].copy()\n",
    "        bloque['Grupo_Final'] = grupo_id\n",
    "        final_grupos.append(bloque)\n",
    "        grupo_id += 1\n",
    "\n",
    "data_final = pd.concat(final_grupos)\n",
    "data_final.drop(columns='DistanciaCentro', inplace=True)"
   ]
  },
  {
   "cell_type": "markdown",
   "id": "13297e1e",
   "metadata": {},
   "source": [
    "## Detalle de la lógica de división para grupos grandes\n",
    "\n",
    "Luego del agrupamiento inicial utilizando Agglomerative Clustering (paso 3), observamos que algunos grupos naturales contenían más de 15 direcciones. Sin embargo, como nuestro objetivo era mantener grupos operativos manejables (máximo 15 direcciones), decidimos dividir manualmente estos grupos grandes.\n",
    "\n",
    "En lugar de forzar al algoritmo a generar un número exacto de grupos desde el principio —lo cual podría resultar en agrupaciones artificiales o poco coherentes geográficamente— aplicamos la siguiente lógica:\n",
    "\n",
    "1. **Se conservaron los grupos generados naturalmente** por proximidad geográfica.\n",
    "2. Para cada grupo con más de 15 direcciones:\n",
    "   - Se calculó la **distancia de cada punto al centro de Valledupar**.\n",
    "   - Se ordenaron las direcciones **de más cerca a más lejos** del centro.\n",
    "   - Se dividieron en bloques de 15 direcciones, respetando esa secuencia geográfica.\n",
    "\n",
    "Este enfoque permite preservar la **coherencia espacial** dentro de los subgrupos y evita crear agrupaciones artificiales que no representen proximidad real entre direcciones. Además, es más flexible y visualmente lógico al momento de asignar tareas operativas, rutas o coberturas zonales."
   ]
  },
  {
   "cell_type": "markdown",
   "id": "874be36f",
   "metadata": {},
   "source": [
    "## Paso 5: Filtrado de grupos con menos de 3 direcciones"
   ]
  },
  {
   "cell_type": "code",
   "execution_count": null,
   "id": "b53da807",
   "metadata": {},
   "outputs": [],
   "source": [
    "# Filtrar grupos pequeños\n",
    "conteo = data_final['Grupo_Final'].value_counts()\n",
    "grupos_validos = conteo[conteo >= 3].index\n",
    "df_filtrado = data_final[data_final['Grupo_Final'].isin(grupos_validos)].copy()"
   ]
  },
  {
   "cell_type": "markdown",
   "id": "3d30078e",
   "metadata": {},
   "source": [
    "## Paso 6: Visualización de mapas por grupo"
   ]
  },
  {
   "cell_type": "code",
   "execution_count": null,
   "id": "57cd9ed3",
   "metadata": {},
   "outputs": [],
   "source": [
    "import folium\n",
    "\n",
    "def mostrar_mapa_por_grupo(df, grupo_col, grupo_id):\n",
    "    grupo_df = df[df[grupo_col] == grupo_id]\n",
    "    m = folium.Map(location=[10.4631, -73.2532], zoom_start=13)\n",
    "    for _, row in grupo_df.iterrows():\n",
    "        folium.CircleMarker(\n",
    "            location=[row['Latitud'], row['Longitud']],\n",
    "            radius=5,\n",
    "            popup=f\"Grupo: {row[grupo_col]}<br>Dirección: {row['DIRECCION']}\",\n",
    "            color='blue',\n",
    "            fill=True,\n",
    "            fill_color='blue'\n",
    "        ).add_to(m)\n",
    "    return m\n",
    "\n",
    "# Ejemplo: mostrar grupo 5\n",
    "mostrar_mapa_por_grupo(df_filtrado, 'Grupo_Final', 5)"
   ]
  },
  {
   "cell_type": "markdown",
   "id": "e59c41c9",
   "metadata": {},
   "source": [
    "\n",
    "## Visualización alternativa con Plotly\n",
    "\n",
    "Esta visualización usa `plotly.express` para representar todos los grupos sobre un mapa interactivo. A diferencia de `folium`, este mapa **sí se puede renderizar correctamente dentro de notebooks vistos desde GitHub** o nbviewer.\n",
    "\n",
    "Cada punto representa una dirección agrupada, coloreada por su grupo de proximidad (`Grupo_Final`).\n"
   ]
  },
  {
   "cell_type": "code",
   "execution_count": null,
   "id": "e9442ade",
   "metadata": {},
   "outputs": [],
   "source": [
    "\n",
    "import plotly.express as px\n",
    "\n",
    "# Visualización de agrupaciones usando Plotly\n",
    "fig = px.scatter_mapbox(\n",
    "    df_filtrado,\n",
    "    lat=\"Latitud\",\n",
    "    lon=\"Longitud\",\n",
    "    color=\"Grupo_Final\",\n",
    "    hover_name=\"DIRECCION\",\n",
    "    zoom=12,\n",
    "    mapbox_style=\"carto-positron\",\n",
    "    height=700,\n",
    "    title=\"Direcciones agrupadas por proximidad geográfica\"\n",
    ")\n",
    "\n",
    "fig.show()\n"
   ]
  }
 ],
 "metadata": {},
 "nbformat": 4,
 "nbformat_minor": 5
}
